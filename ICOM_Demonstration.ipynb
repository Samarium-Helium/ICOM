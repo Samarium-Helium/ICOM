{
 "cells": [
  {
   "cell_type": "markdown",
   "id": "9ad684d1-64cc-453c-864d-02d693e057ad",
   "metadata": {},
   "source": [
    "# Improved Crystal Orientation Mapping"
   ]
  },
  {
   "cell_type": "markdown",
   "id": "6194cd16-f9db-4afa-9d22-bda7290d9c63",
   "metadata": {},
   "source": [
    "This notebook demonstrates improved methods for crystal orientation mapping, making use of advanced computing science concepts like:\n",
    "- Parallelisation through multiprocessing\n",
    "- Clustering through parallelised machine-learning\n",
    "- Principle component analysus"
   ]
  },
  {
   "cell_type": "code",
   "execution_count": 1,
   "id": "e9da3605-ab09-4da7-9000-004855c36640",
   "metadata": {},
   "outputs": [],
   "source": [
    "import ICOM"
   ]
  },
  {
   "cell_type": "markdown",
   "id": "dfaf09e0-e73d-4e06-8928-a1b250fb03aa",
   "metadata": {},
   "source": [
    "## TiTaO"
   ]
  },
  {
   "cell_type": "markdown",
   "id": "bffa5b1b-bcfe-4263-ac8c-2e138fe5c32f",
   "metadata": {},
   "source": [
    "Results obtained by processing data from a TiTaO sample."
   ]
  },
  {
   "cell_type": "code",
   "execution_count": 2,
   "id": "b91d1c0d-fb5d-420e-bc56-cd90b1c6c374",
   "metadata": {},
   "outputs": [
    {
     "name": "stdout",
     "output_type": "stream",
     "text": [
      "/\n",
      "|---datacube_root\n",
      "    |---braggvectors\n",
      "        |---_v_uncal\n",
      "\n",
      "\n"
     ]
    },
    {
     "name": "stderr",
     "output_type": "stream",
     "text": [
      "Reading PointListArray: 100%|██████████| 13188/13188 [00:02<00:00, 6388.69PointList/s]\n",
      "100%|██████████| 13188/13188 [00:25<00:00, 514.60it/s] \n"
     ]
    }
   ],
   "source": [
    "# Point this to the directory where you wish to save and load data\n",
    "directory = '/home/2633941r/_Project/data_files/'\n",
    "\n",
    "# Enter file_name.h5 of calibrated data\n",
    "tatio_file_name = 'IM104 untilted_braggdisks_cali.h5'\n",
    "\n",
    "# Create an Icom object\n",
    "tatio = ICOM.Icom(directory, tatio_file_name)"
   ]
  },
  {
   "cell_type": "code",
   "execution_count": 3,
   "id": "4aaacd9b-1d1a-4463-9161-c9346aefa300",
   "metadata": {},
   "outputs": [],
   "source": [
    "# tatio.calc_dist_matrix()\n",
    "# tatio.save_brute_d()"
   ]
  },
  {
   "cell_type": "code",
   "execution_count": 4,
   "id": "cb9a965c-be12-428f-9574-5ecd5bd4ddb4",
   "metadata": {},
   "outputs": [],
   "source": [
    "# tatio.cluster_brute_force()"
   ]
  },
  {
   "cell_type": "code",
   "execution_count": 5,
   "id": "bc4c05f3-e37d-4fa1-b1dd-dacd6335564a",
   "metadata": {
    "tags": []
   },
   "outputs": [],
   "source": [
    "# tatio.plot_brute_cluster()"
   ]
  },
  {
   "cell_type": "code",
   "execution_count": 6,
   "id": "eb4091a3-2a1f-435b-b86f-e06179dc61d9",
   "metadata": {},
   "outputs": [
    {
     "name": "stdout",
     "output_type": "stream",
     "text": [
      "[0.4064981955345625 -0.5933521562922689] (2,)\n"
     ]
    },
    {
     "ename": "IndexError",
     "evalue": "too many indices for array: array is 1-dimensional, but 2 were indexed",
     "output_type": "error",
     "traceback": [
      "\u001b[0;31m---------------------------------------------------------------------------\u001b[0m",
      "\u001b[0;31mIndexError\u001b[0m                                Traceback (most recent call last)",
      "Cell \u001b[0;32mIn[6], line 1\u001b[0m\n\u001b[0;32m----> 1\u001b[0m \u001b[43mtatio\u001b[49m\u001b[38;5;241;43m.\u001b[39;49m\u001b[43mcalc_dist_pca\u001b[49m\u001b[43m(\u001b[49m\u001b[43m)\u001b[49m\n\u001b[1;32m      2\u001b[0m tatio\u001b[38;5;241m.\u001b[39mcluster_pca()\n\u001b[1;32m      3\u001b[0m tatio\u001b[38;5;241m.\u001b[39mplot_pca()\n",
      "File \u001b[0;32m~/_Project/ICOM.py:334\u001b[0m, in \u001b[0;36mIcom.calc_dist_pca\u001b[0;34m(self, cams)\u001b[0m\n\u001b[1;32m    332\u001b[0m     cams \u001b[38;5;241m=\u001b[39m np\u001b[38;5;241m.\u001b[39marray([data[\u001b[38;5;241m0\u001b[39m][\u001b[38;5;241m0\u001b[39m]])\n\u001b[1;32m    333\u001b[0m \u001b[38;5;28mself\u001b[39m\u001b[38;5;241m.\u001b[39m_format_data()\n\u001b[0;32m--> 334\u001b[0m \u001b[38;5;28;43mself\u001b[39;49m\u001b[38;5;241;43m.\u001b[39;49m\u001b[43m_diff_scan\u001b[49m\u001b[43m(\u001b[49m\u001b[43mdata\u001b[49m\u001b[43m,\u001b[49m\u001b[43m \u001b[49m\u001b[43mcams\u001b[49m\u001b[43m)\u001b[49m\n\u001b[1;32m    335\u001b[0m \u001b[38;5;28mself\u001b[39m\u001b[38;5;241m.\u001b[39m_unflatten()\n",
      "File \u001b[0;32m~/_Project/ICOM.py:278\u001b[0m, in \u001b[0;36mIcom._diff_scan\u001b[0;34m(self, data, cams)\u001b[0m\n\u001b[1;32m    276\u001b[0m \u001b[38;5;28;01mfor\u001b[39;00m j, d \u001b[38;5;129;01min\u001b[39;00m \u001b[38;5;28menumerate\u001b[39m(data):\n\u001b[1;32m    277\u001b[0m     subset \u001b[38;5;241m=\u001b[39m d[\u001b[38;5;241m1\u001b[39m:n\u001b[38;5;241m+\u001b[39m\u001b[38;5;241m1\u001b[39m]\n\u001b[0;32m--> 278\u001b[0m     diff \u001b[38;5;241m=\u001b[39m \u001b[43mcam\u001b[49m\u001b[43m[\u001b[49m\u001b[43m:\u001b[49m\u001b[43m,\u001b[49m\u001b[43m \u001b[49m\u001b[43mnp\u001b[49m\u001b[38;5;241;43m.\u001b[39;49m\u001b[43mnewaxis\u001b[49m\u001b[43m,\u001b[49m\u001b[43m \u001b[49m\u001b[43m:\u001b[49m\u001b[43m]\u001b[49m \u001b[38;5;241m-\u001b[39m subset\n\u001b[1;32m    279\u001b[0m     dist \u001b[38;5;241m=\u001b[39m np\u001b[38;5;241m.\u001b[39mlinalg\u001b[38;5;241m.\u001b[39mnorm(diff, axis\u001b[38;5;241m=\u001b[39m\u001b[38;5;241m2\u001b[39m)\n\u001b[1;32m    280\u001b[0m     mien \u001b[38;5;241m=\u001b[39m np\u001b[38;5;241m.\u001b[39mmin(dist, axis\u001b[38;5;241m=\u001b[39m\u001b[38;5;241m0\u001b[39m)\n",
      "\u001b[0;31mIndexError\u001b[0m: too many indices for array: array is 1-dimensional, but 2 were indexed"
     ]
    }
   ],
   "source": [
    "tatio.calc_dist_pca()\n",
    "tatio.cluster_pca()\n",
    "tatio.plot_pca()"
   ]
  },
  {
   "cell_type": "code",
   "execution_count": null,
   "id": "2a3e1412-ce49-4d66-a72c-ffe6bb963e19",
   "metadata": {},
   "outputs": [],
   "source": []
  }
 ],
 "metadata": {
  "kernelspec": {
   "display_name": "diffraction_py4dstem",
   "language": "python",
   "name": "diffraction_py4dstem"
  },
  "language_info": {
   "codemirror_mode": {
    "name": "ipython",
    "version": 3
   },
   "file_extension": ".py",
   "mimetype": "text/x-python",
   "name": "python",
   "nbconvert_exporter": "python",
   "pygments_lexer": "ipython3",
   "version": "3.11.10"
  }
 },
 "nbformat": 4,
 "nbformat_minor": 5
}
